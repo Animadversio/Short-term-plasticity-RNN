{
 "cells": [
  {
   "cell_type": "code",
   "execution_count": null,
   "metadata": {
    "collapsed": false
   },
   "outputs": [
    {
     "name": "stdout",
     "output_type": "stream",
     "text": [
      "Initializing paramaters...\n",
      "1 0 0.01 0.25 0.01\n",
      "Using suggested MNIST trial params...\n",
      "Using EI network\n",
      "b_rnn changed\n",
      "Applying weight mask to w_rec\n",
      "Applying weight mask to w_out\n"
     ]
    }
   ],
   "source": [
    "import test_models\n",
    "import importlib\n",
    "importlib.reload(test_models)\n",
    "test_models.run_tests()"
   ]
  },
  {
   "cell_type": "code",
   "execution_count": 23,
   "metadata": {
    "collapsed": false
   },
   "outputs": [],
   "source": [
    "import neural_analysis\n",
    "importlib.reload(neural_analysis)\n",
    "fn1 = 'C:/Users/nicol_000/Projects/RNN STP Model/saved_model_files/MNIST_wiring_0.pkl'\n",
    "na = neural_analysis.neural_analysis(fn1, ABBA = False)"
   ]
  },
  {
   "cell_type": "code",
   "execution_count": 40,
   "metadata": {
    "collapsed": false
   },
   "outputs": [
    {
     "name": "stdout",
     "output_type": "stream",
     "text": [
      "(343, 343)\n",
      "(11, 343)\n",
      "[ 49  51  69  82 100 107 142 149 171 198 245] [ 42  50  69  86 108 109 132 147 156 161 169 221 242 250 273]\n",
      "0.0\n"
     ]
    }
   ],
   "source": [
    "import matplotlib.pyplot as plt\n",
    "%matplotlib inline  \n",
    "import numpy as np\n",
    "print(na.W_rnn.shape)\n",
    "print(na.W_out.shape)\n",
    "#plt.imshow(np.maximum(0,na.W_out),aspect='auto', interpolation='none',clim=(0,0.2))\n",
    "#plt.colorbar()\n",
    "#plt.show()\n",
    "ind1=np.where(na.W_out[1,:]>0.1)[0]\n",
    "ind2=np.where(na.W_out[2,:]>0.1)[0]\n",
    "print(ind1,ind2)\n",
    "x11=np.maximum(0,na.W_rnn[:,ind2])\n",
    "x11=x11[ind1,:]\n",
    "print(np.sum(x11))\n"
   ]
  },
  {
   "cell_type": "code",
   "execution_count": null,
   "metadata": {
    "collapsed": true
   },
   "outputs": [],
   "source": [
    "pl"
   ]
  }
 ],
 "metadata": {
  "kernelspec": {
   "display_name": "Python 3",
   "language": "python",
   "name": "python3"
  },
  "language_info": {
   "codemirror_mode": {
    "name": "ipython",
    "version": 3
   },
   "file_extension": ".py",
   "mimetype": "text/x-python",
   "name": "python",
   "nbconvert_exporter": "python",
   "pygments_lexer": "ipython3",
   "version": "3.5.2"
  }
 },
 "nbformat": 4,
 "nbformat_minor": 0
}
