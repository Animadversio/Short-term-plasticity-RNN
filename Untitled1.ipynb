{
 "cells": [
  {
   "cell_type": "code",
   "execution_count": 119,
   "metadata": {
    "collapsed": false
   },
   "outputs": [
    {
     "name": "stdout",
     "output_type": "stream",
     "text": [
      "(125, 125)\n"
     ]
    },
    {
     "data": {
      "image/png": "[encoded data removed]",
      "text/plain": [
       "<matplotlib.figure.Figure at 0x23d43e95e80>"
      ]
     },
     "metadata": {},
     "output_type": "display_data"
    }
   ],
   "source": [
    "import importlib\n",
    "import neural_analysis\n",
    "import matplotlib.pyplot as plt\n",
    "import numpy as np\n",
    "importlib.reload(neural_analysis)\n",
    "%matplotlib inline \n",
    "fn1 = 'C:/Users/nicol_000/Projects/RNN STP Model/saved_model_files/DMS_wiring_1.pkl'\n",
    "na = neural_analysis.neural_analysis(fn1, ABBA = False)\n",
    "print(na.W_rnn.shape)\n",
    "plt.imshow(np.maximum(0,na.W_rnn[:,:])>0,aspect='auto', interpolation='none', clim=(0,0.001))\n",
    "plt.colorbar()\n",
    "#plt.plot(na.W_rnn[:,11])\n",
    "plt.show()"
   ]
  },
  {
   "cell_type": "code",
   "execution_count": 120,
   "metadata": {
    "collapsed": false
   },
   "outputs": [
    {
     "name": "stdout",
     "output_type": "stream",
     "text": [
      "[[ 1.         -0.03196578]\n",
      " [-0.03196578  1.        ]]\n"
     ]
    },
    {
     "data": {
      "image/png": "[encoded data removed]",
      "text/plain": [
       "<matplotlib.figure.Figure at 0x23d66817e10>"
      ]
     },
     "metadata": {},
     "output_type": "display_data"
    }
   ],
   "source": [
    "x1=np.zeros((int(105*104//2)))\n",
    "x2=np.zeros((int(105*104//2)))\n",
    "count = -1\n",
    "for i in range(104):\n",
    "    for j in range(i+1,105):\n",
    "        count += 1\n",
    "        x1[count] = np.maximum(0,na.W_rnn[i,j])\n",
    "        x2[count] = na.pairwise_dist[i,j]\n",
    "plt.plot(x1,x2,'k.')\n",
    "print(np.corrcoef(x1,x2))\n",
    "plt.show()"
   ]
  },
  {
   "cell_type": "code",
   "execution_count": 50,
   "metadata": {
    "collapsed": false
   },
   "outputs": [
    {
     "name": "stdout",
     "output_type": "stream",
     "text": [
      "343 274.40000000000003 68.60000000000001\n"
     ]
    }
   ],
   "source": [
    "print(7**3, 7**3*0.8, 7**3*0.2)"
   ]
  },
  {
   "cell_type": "code",
   "execution_count": null,
   "metadata": {
    "collapsed": true
   },
   "outputs": [],
   "source": []
  }
 ],
 "metadata": {
  "kernelspec": {
   "display_name": "Python 3",
   "language": "python",
   "name": "python3"
  },
  "language_info": {
   "codemirror_mode": {
    "name": "ipython",
    "version": 3
   },
   "file_extension": ".py",
   "mimetype": "text/x-python",
   "name": "python",
   "nbconvert_exporter": "python",
   "pygments_lexer": "ipython3",
   "version": "3.5.2"
  }
 },
 "nbformat": 4,
 "nbformat_minor": 0
}
